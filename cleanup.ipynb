{
 "cells": [
  {
   "cell_type": "code",
   "execution_count": null,
   "id": "71cf8a33",
   "metadata": {},
   "outputs": [
    {
     "name": "stdout",
     "output_type": "stream",
     "text": [
      "All nodes and relationships deleted.\n"
     ]
    }
   ],
   "source": [
    "from neo4j import GraphDatabase\n",
    "import os\n",
    "from dotenv import load_dotenv\n",
    "\n",
    "load_dotenv()\n",
    "\n",
    "uri = os.getenv(\"NEO4J_URI\")\n",
    "user = os.getenv(\"NEO4J_USER\")\n",
    "password = os.getenv(\"NEO4J_PASSWORD\")\n",
    "\n",
    "driver = GraphDatabase.driver(uri, auth=(user, password))\n",
    "\n",
    "def delete_all():\n",
    "    with driver.session() as session:\n",
    "        session.run(\"MATCH (n) DETACH DELETE n\")\n",
    "        print(\"All nodes and relationships deleted.\")\n",
    "\n",
    "# delete_all()\n",
    "# driver.close()\n"
   ]
  },
  {
   "cell_type": "code",
   "execution_count": 4,
   "id": "f0bf8596",
   "metadata": {},
   "outputs": [
    {
     "name": "stdout",
     "output_type": "stream",
     "text": [
      "Client\n",
      "Category\n",
      "LoanType\n",
      "Transaction\n",
      "Loan\n",
      "MonthlySummary\n",
      "PeerGroup\n"
     ]
    }
   ],
   "source": [
    "from neo4j import GraphDatabase\n",
    "import os\n",
    "from dotenv import load_dotenv\n",
    "\n",
    "load_dotenv()\n",
    "\n",
    "uri = os.getenv(\"NEO4J_URI\")\n",
    "user = os.getenv(\"NEO4J_USER\")\n",
    "password = os.getenv(\"NEO4J_PASSWORD\")\n",
    "\n",
    "driver = GraphDatabase.driver(uri, auth=(user, password))\n",
    "\n",
    "def get_all_labels():\n",
    "    with driver.session() as session:\n",
    "        result = session.run(\"CALL db.labels()\")\n",
    "        for record in result:\n",
    "            print(record[\"label\"])\n",
    "\n",
    "get_all_labels()\n",
    "driver.close()\n"
   ]
  },
  {
   "cell_type": "code",
   "execution_count": 5,
   "id": "0eaca0be",
   "metadata": {},
   "outputs": [
    {
     "name": "stdout",
     "output_type": "stream",
     "text": [
      "Total Nodes: 12080\n",
      "Total Relationships: 0\n"
     ]
    }
   ],
   "source": [
    "from neo4j import GraphDatabase\n",
    "import os\n",
    "from dotenv import load_dotenv\n",
    "\n",
    "load_dotenv()\n",
    "\n",
    "uri = os.getenv(\"NEO4J_URI\")\n",
    "user = os.getenv(\"NEO4J_USER\")\n",
    "password = os.getenv(\"NEO4J_PASSWORD\")\n",
    "\n",
    "driver = GraphDatabase.driver(uri, auth=(user, password))\n",
    "\n",
    "def count_nodes_and_relationships():\n",
    "    with driver.session() as session:\n",
    "        node_count = session.run(\"MATCH (n) RETURN count(n) AS total_nodes\").single()[\"total_nodes\"]\n",
    "        rel_count = session.run(\"MATCH ()-[r]->() RETURN count(r) AS total_relationships\").single()[\"total_relationships\"]\n",
    "        print(f\"Total Nodes: {node_count}\")\n",
    "        print(f\"Total Relationships: {rel_count}\")\n",
    "\n",
    "count_nodes_and_relationships()\n",
    "driver.close()\n",
    "b"
   ]
  },
  {
   "cell_type": "code",
   "execution_count": 6,
   "id": "9bdef5cb",
   "metadata": {},
   "outputs": [
    {
     "name": "stdout",
     "output_type": "stream",
     "text": [
      "Total Client nodes: 5000\n"
     ]
    }
   ],
   "source": [
    "from neo4j import GraphDatabase\n",
    "import os\n",
    "from dotenv import load_dotenv\n",
    "\n",
    "load_dotenv()\n",
    "\n",
    "uri = os.getenv(\"NEO4J_URI\")\n",
    "user = os.getenv(\"NEO4J_USER\")\n",
    "password = os.getenv(\"NEO4J_PASSWORD\")\n",
    "\n",
    "driver = GraphDatabase.driver(uri, auth=(user, password))\n",
    "\n",
    "def count_clients():\n",
    "    with driver.session() as session:\n",
    "        result = session.run(\"MATCH (n:Client) RETURN count(n) AS client_count\")\n",
    "        count = result.single()[\"client_count\"]\n",
    "        print(f\"Total Client nodes: {count}\")\n",
    "\n",
    "count_clients()\n",
    "driver.close()\n"
   ]
  },
  {
   "cell_type": "code",
   "execution_count": 7,
   "id": "732ccbaa",
   "metadata": {},
   "outputs": [
    {
     "name": "stdout",
     "output_type": "stream",
     "text": [
      "Total Peer Group nodes: 7080\n"
     ]
    }
   ],
   "source": [
    "from neo4j import GraphDatabase\n",
    "import os\n",
    "from dotenv import load_dotenv\n",
    "\n",
    "load_dotenv()\n",
    "\n",
    "uri = os.getenv(\"NEO4J_URI\")\n",
    "user = os.getenv(\"NEO4J_USER\")\n",
    "password = os.getenv(\"NEO4J_PASSWORD\")\n",
    "\n",
    "driver = GraphDatabase.driver(uri, auth=(user, password))\n",
    "\n",
    "def count_clients():\n",
    "    with driver.session() as session:\n",
    "        result = session.run(\"MATCH (n:PeerGroup) RETURN count(n) AS peer_group_count\")\n",
    "        count = result.single()[\"peer_group_count\"]\n",
    "        print(f\"Total Peer Group nodes: {count}\")\n",
    "\n",
    "count_clients()\n",
    "driver.close()"
   ]
  },
  {
   "cell_type": "code",
   "execution_count": 8,
   "id": "5d23067f",
   "metadata": {},
   "outputs": [],
   "source": [
    "from neo4j import GraphDatabase\n",
    "import os\n",
    "from dotenv import load_dotenv\n",
    "\n",
    "load_dotenv()\n",
    "\n",
    "uri = os.getenv(\"NEO4J_URI\")\n",
    "user = os.getenv(\"NEO4J_USER\")\n",
    "password = os.getenv(\"NEO4J_PASSWORD\")\n",
    "\n",
    "driver = GraphDatabase.driver(uri, auth=(user, password))\n",
    "\n",
    "def get_clients_without_peer_group():\n",
    "    with driver.session() as session:\n",
    "        result = session.run(\"\"\"\n",
    "            MATCH (c:Client)\n",
    "            WHERE NOT (c)-[:BELONGS_TO]->(:PeerGroup)\n",
    "            RETURN c\n",
    "        \"\"\")\n",
    "        for record in result:\n",
    "            print(record[\"c\"])\n",
    "\n",
    "get_clients_without_peer_group()\n",
    "driver.close()\n"
   ]
  }
 ],
 "metadata": {
  "kernelspec": {
   "display_name": "base",
   "language": "python",
   "name": "python3"
  },
  "language_info": {
   "codemirror_mode": {
    "name": "ipython",
    "version": 3
   },
   "file_extension": ".py",
   "mimetype": "text/x-python",
   "name": "python",
   "nbconvert_exporter": "python",
   "pygments_lexer": "ipython3",
   "version": "3.12.7"
  }
 },
 "nbformat": 4,
 "nbformat_minor": 5
}
