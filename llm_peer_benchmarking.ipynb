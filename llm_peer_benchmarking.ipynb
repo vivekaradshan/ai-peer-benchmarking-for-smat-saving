import pandas as pd
from langchain_neo4j import Neo4jGraph
from langchain.vectorstores import Chroma
from langchain.embeddings.openai import OpenAIEmbeddings
from langchain.chains import LLMChain
from langchain.prompts import PromptTemplate
import os
from langchain.llms import OpenAI
from dotenv import load_dotenv

load_dotenv()

# Assuming you have client_data_with_peers and peer_group_definitions DataFrames

# 1. Connect to Neo4j
# ----------------------
NEO4J_URI = os.environ["NEO4J_URI"]
NEO4J_USER = os.environ["NEO4J_USER"]
NEO4J_PASSWORD = os.environ["NEO4J_PASSWORD"]

graph = Neo4jGraph(url=NEO4J_URI, username=NEO4J_USER, password=NEO4J_PASSWORD)

# 2. Connect to Chroma
# ----------------------
embeddings = OpenAIEmbeddings()
chroma_client = chromadb.Client()
collection = chroma_client.get_collection("peer_groups")  # Get the existing collection

# 3. LLM Setup (OpenAI GPT-4)
# -----------------------------
#  * You **MUST** set the OPENAI_API_KEY environment variable.
openai_api_key = os.environ.get("OPENAI_API_KEY")  # Get API key from environment
if not openai_api_key:
    raise ValueError("OPENAI_API_KEY environment variable not set.  You need to set your OpenAI API key.")
llm = OpenAI(model_name="gpt-4", openai_api_key=openai_api_key)  # Initialize OpenAI with GPT-4 and key

# 4. Prompt Template
# ------------------
prompt_template = """
You are a personal finance advisor.  Use the information below to compare the client's financial situation to their peer group.
Query: {query}
Client Data: {client_data}
Peer Group Data: {peer_group_data}
Knowledge Graph Data: {kg_data}
Response:
"""
prompt = PromptTemplate(template=prompt_template, input_variables=["query", "client_data", "peer_group_data", "kg_data"])
llm_chain = LLMChain(llm=llm, prompt=prompt, verbose=True)


def get_peer_group_comparison_rag(query: str, client_id: str, client_data_df: pd.DataFrame):
    """
    Retrieves peer group data and generates a comparison using Graph RAG and OpenAI GPT-4.

    Args:
        query: The user's query.
        client_id: The ID of the client to compare.
        client_data_df (pd.DataFrame): The client data.

    Returns:
        str: The LLM-generated comparison text.
    """

    # 1. Retrieve client data from client_data_df
    client_row = client_data_df[client_data_df['client_id'] == client_id].iloc[0].to_dict()

    client_data = f"Age: {client_row['age']}, Income: {client_row['monthly_income']}, Location: {client_row['location']}, Profession: {client_row['profession']}, Financial Goal: {client_row['financial_goal']}"

    # 2. Vector Store Query (Chroma)
    # -----------------------------
    # Find relevant peer groups. For simplicity, we'll just search for the top 1.
    results = collection.query(query_texts=[query], n_results=1)  # Get the most relevant peer group

    if not results['ids']:
        return "I'm sorry, I couldn't find any relevant peer groups."

    peer_group_id = results['ids'][0]
    print(f"Found peer group ID: {peer_group_id}")

    # 3. Knowledge Graph Query (Neo4j)
    # -----------------------------
    # Fetch detailed information about the peer group from the KG.
    cypher_query = f"""
        MATCH (pg:PeerGroup {{peer_group_id: '{peer_group_id[0]}'}}),
              (c:Client)-[:BELONGS_TO]->(pg)
        RETURN pg.description AS peer_group_description,
               avg(c.age) AS avg_age,
               avg(c.income) AS avg_income
    """
    kg_results = graph.query(cypher_query)

    if not kg_results:
        return "I found similar peer groups, but I couldn't retrieve detailed information from our knowledge graph."

    peer_group_data = kg_results[0]
    kg_data = f"Peer Group Description: {peer_group_data['peer_group_description']}, Average Age: {peer_group_data['avg_age']}, Average Income: {peer_group_data['avg_income']}"

    # 4. Generate the LLM Response
    # -----------------------------
    response = llm_chain.run(query=query, client_data=client_data, peer_group_data=peer_group_data, kg_data=kg_data)
    return response


# Example Usage
# Assuming you have a client ID and a query
sample_client_id = "client_0001"  # Replace with a valid client ID from your data
sample_query = "Compare my financial situation to others like me"

comparison_text = get_peer_group_comparison_rag(sample_query, sample_client_id, client_data_with_peers)
print("\nComparison Text:")
print(comparison_text)
